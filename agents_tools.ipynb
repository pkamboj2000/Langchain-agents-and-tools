{
 "cells": [
  {
   "cell_type": "markdown",
   "id": "d06c8929",
   "metadata": {},
   "source": [
    "Making Wiki tool"
   ]
  },
  {
   "cell_type": "code",
   "execution_count": 2,
   "id": "0c703364",
   "metadata": {},
   "outputs": [
    {
     "data": {
      "text/plain": [
       "WikipediaQueryRun(api_wrapper=WikipediaAPIWrapper(wiki_client=<module 'wikipedia' from '/opt/anaconda3/lib/python3.12/site-packages/wikipedia/__init__.py'>, top_k_results=1, lang='en', load_all_available_meta=False, doc_content_chars_max=250))"
      ]
     },
     "execution_count": 2,
     "metadata": {},
     "output_type": "execute_result"
    }
   ],
   "source": [
    "from langchain_community.tools import WikipediaQueryRun\n",
    "from langchain_community.utilities import WikipediaAPIWrapper\n",
    "api_wrapper=WikipediaAPIWrapper(top_k_results=1,doc_content_chars_max=250)\n",
    "wikipedia=WikipediaQueryRun(api_wrapper=api_wrapper)\n",
    "wikipedia\n"
   ]
  },
  {
   "cell_type": "markdown",
   "id": "2b187bb2",
   "metadata": {},
   "source": [
    "Loading text and saving in text documents  from the link "
   ]
  },
  {
   "cell_type": "code",
   "execution_count": 3,
   "id": "3004261f",
   "metadata": {},
   "outputs": [
    {
     "name": "stderr",
     "output_type": "stream",
     "text": [
      "USER_AGENT environment variable not set, consider setting it to identify your requests.\n"
     ]
    },
    {
     "data": {
      "text/plain": [
       "['',\n",
       " 'Artificial intelligence (AI) is technology that enables computers and machines to simulate human learning, comprehension, problem solving, decision making, creativity and autonomy.',\n",
       " '',\n",
       " 'Applications and devices equipped with AI can see and identify objects. They can understand and respond to human language. They can learn from new information and experience. They can make detailed recommendations to users and experts.\\xa0They can act independently, replacing the need for human intelligence or intervention (a classic example being a self-driving car).',\n",
       " 'But in 2024, most AI researchers, practitioners and most AI-related headlines are focused on breakthroughs in generative AI\\xa0(gen AI), a technology that can create original text, images, video and other content. To fully understand generative AI, it’s important to first understand the technologies on which generative AI tools are built: machine learning\\xa0(ML) and deep learning.']"
      ]
     },
     "execution_count": 3,
     "metadata": {},
     "output_type": "execute_result"
    }
   ],
   "source": [
    "from langchain_community.document_loaders import WebBaseLoader\n",
    "import bs4\n",
    "loader=WebBaseLoader(web_paths=(\"https://www.ibm.com/topics/artificial-intelligence\",),\n",
    "                     bs_kwargs=dict(parse_only=bs4.SoupStrainer(\n",
    "                      class_=(\"rich-text text\")    \n",
    "                     )))\n",
    "text_documents2=loader.load()\n",
    "text_documents2[0].page_content.splitlines()[:5]"
   ]
  },
  {
   "cell_type": "markdown",
   "id": "1fc20f71",
   "metadata": {},
   "source": [
    "Splitting the text documents in small parts"
   ]
  },
  {
   "cell_type": "code",
   "execution_count": 4,
   "id": "f0e4c2b1",
   "metadata": {},
   "outputs": [
    {
     "data": {
      "text/plain": [
       "[Document(metadata={'source': 'https://www.ibm.com/topics/artificial-intelligence'}, page_content='Artificial intelligence (AI) is technology that enables computers and machines to simulate human learning, comprehension, problem solving, decision making, creativity and autonomy.\\n\\nApplications and devices equipped with AI can see and identify objects. They can understand and respond to human language. They can learn from new information and experience. They can make detailed recommendations to users and experts.\\xa0They can act independently, replacing the need for human intelligence or intervention (a classic example being a self-driving car).\\nBut in 2024, most AI researchers, practitioners and most AI-related headlines are focused on breakthroughs in generative AI\\xa0(gen AI), a technology that can create original text, images, video and other content. To fully understand generative AI, it’s important to first understand the technologies on which generative AI tools are built: machine learning\\xa0(ML) and deep learning.')]"
      ]
     },
     "execution_count": 4,
     "metadata": {},
     "output_type": "execute_result"
    }
   ],
   "source": [
    "from langchain.text_splitter import RecursiveCharacterTextSplitter\n",
    "text_splitter=RecursiveCharacterTextSplitter(chunk_size=1000,chunk_overlap=200)\n",
    "documents=text_splitter.split_documents(text_documents2)\n",
    "documents[:1]"
   ]
  },
  {
   "cell_type": "markdown",
   "id": "1b054072",
   "metadata": {},
   "source": [
    "Embedding the small ext documents and saving them in vector store "
   ]
  },
  {
   "cell_type": "code",
   "execution_count": 5,
   "id": "e91927ac",
   "metadata": {},
   "outputs": [
    {
     "name": "stderr",
     "output_type": "stream",
     "text": [
      "/var/folders/t_/zv5h04nn7jv_k2q7mxzvpvww0000gn/T/ipykernel_1099/4146270034.py:3: LangChainDeprecationWarning: The class `HuggingFaceEmbeddings` was deprecated in LangChain 0.2.2 and will be removed in 1.0. An updated version of the class exists in the :class:`~langchain-huggingface package and should be used instead. To use it run `pip install -U :class:`~langchain-huggingface` and import as `from :class:`~langchain_huggingface import HuggingFaceEmbeddings``.\n",
      "  database=FAISS.from_documents(documents,HuggingFaceEmbeddings(model_name=\"sentence-transformers/all-MiniLM-L6-v2\"))\n"
     ]
    },
    {
     "data": {
      "text/plain": [
       "VectorStoreRetriever(tags=['FAISS', 'HuggingFaceEmbeddings'], vectorstore=<langchain_community.vectorstores.faiss.FAISS object at 0x385b2ffe0>, search_kwargs={})"
      ]
     },
     "execution_count": 5,
     "metadata": {},
     "output_type": "execute_result"
    }
   ],
   "source": [
    "from langchain_community.vectorstores import FAISS\n",
    "from langchain_community.embeddings import HuggingFaceEmbeddings\n",
    "database=FAISS.from_documents(documents,HuggingFaceEmbeddings(model_name=\"sentence-transformers/all-MiniLM-L6-v2\"))\n",
    "retriever=database.as_retriever()\n",
    "retriever\n"
   ]
  },
  {
   "cell_type": "markdown",
   "id": "af2345f2",
   "metadata": {},
   "source": [
    "Creating Artificial Intelligence search tool using retriever"
   ]
  },
  {
   "cell_type": "code",
   "execution_count": 6,
   "id": "6db5c06c",
   "metadata": {},
   "outputs": [
    {
     "data": {
      "text/plain": [
       "'Artificial Intelligence Search'"
      ]
     },
     "execution_count": 6,
     "metadata": {},
     "output_type": "execute_result"
    }
   ],
   "source": [
    "from langchain.tools.retriever import create_retriever_tool\n",
    "AI_search=create_retriever_tool(retriever,\"Artificial Intelligence Search\",\"If I ask any question realted to artificial Intelligence use this tool\")\n",
    "AI_search.name"
   ]
  },
  {
   "cell_type": "markdown",
   "id": "500577b1",
   "metadata": {},
   "source": [
    "Making Arxiv Tool "
   ]
  },
  {
   "cell_type": "code",
   "execution_count": 7,
   "id": "3bcd486d",
   "metadata": {},
   "outputs": [
    {
     "data": {
      "text/plain": [
       "'arxiv'"
      ]
     },
     "execution_count": 7,
     "metadata": {},
     "output_type": "execute_result"
    }
   ],
   "source": [
    "from langchain_community.utilities import ArxivAPIWrapper\n",
    "from langchain_community.tools import ArxivQueryRun\n",
    "arxiv_wrapper=ArxivAPIWrapper(top_k_results=1,doc_content_chars_max=150)\n",
    "arxiv=ArxivQueryRun(api_wrapper=arxiv_wrapper)\n",
    "arxiv.name"
   ]
  },
  {
   "cell_type": "markdown",
   "id": "238a811b",
   "metadata": {},
   "source": [
    "Combining tools"
   ]
  },
  {
   "cell_type": "code",
   "execution_count": 9,
   "id": "a612be0d",
   "metadata": {},
   "outputs": [],
   "source": [
    "tools=[wikipedia,AI_search,arxiv]"
   ]
  },
  {
   "cell_type": "markdown",
   "id": "bea8456c",
   "metadata": {},
   "source": [
    "Using llama2 llm with the help of ollama"
   ]
  },
  {
   "cell_type": "code",
   "execution_count": 11,
   "id": "64d8a21b",
   "metadata": {},
   "outputs": [
    {
     "data": {
      "text/plain": [
       "Ollama()"
      ]
     },
     "execution_count": 11,
     "metadata": {},
     "output_type": "execute_result"
    }
   ],
   "source": [
    "from langchain_community.llms import Ollama\n",
    "llm=Ollama(model=\"llama2\")\n",
    "llm"
   ]
  },
  {
   "cell_type": "markdown",
   "id": "64b06e4c",
   "metadata": {},
   "source": [
    "Agents"
   ]
  },
  {
   "cell_type": "code",
   "execution_count": 14,
   "id": "ca441ec6",
   "metadata": {},
   "outputs": [],
   "source": [
    "from langchain.agents import create_openai_tools_agent\n",
    "agent=create_openai_tools_agent(llm,tools,prompt)"
   ]
  },
  {
   "cell_type": "code",
   "execution_count": 18,
   "id": "b263f739",
   "metadata": {},
   "outputs": [
    {
     "name": "stderr",
     "output_type": "stream",
     "text": [
      "/opt/anaconda3/lib/python3.12/site-packages/langsmith/client.py:256: LangSmithMissingAPIKeyWarning: API key must be provided when using hosted LangSmith API\n",
      "  warnings.warn(\n"
     ]
    }
   ],
   "source": [
    "from langchain import hub\n",
    "prompt=hub.pull(\"hwchase17/openai-functions-agent\")"
   ]
  }
 ],
 "metadata": {
  "kernelspec": {
   "display_name": "base",
   "language": "python",
   "name": "python3"
  },
  "language_info": {
   "codemirror_mode": {
    "name": "ipython",
    "version": 3
   },
   "file_extension": ".py",
   "mimetype": "text/x-python",
   "name": "python",
   "nbconvert_exporter": "python",
   "pygments_lexer": "ipython3",
   "version": "3.12.7"
  }
 },
 "nbformat": 4,
 "nbformat_minor": 5
}
