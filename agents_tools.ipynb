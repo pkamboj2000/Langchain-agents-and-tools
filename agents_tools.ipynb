{
 "cells": [
  {
   "cell_type": "markdown",
   "id": "d06c8929",
   "metadata": {},
   "source": [
    "Making Wiki tool"
   ]
  },
  {
   "cell_type": "code",
   "execution_count": 26,
   "id": "0c703364",
   "metadata": {},
   "outputs": [
    {
     "data": {
      "text/plain": [
       "WikipediaQueryRun(api_wrapper=WikipediaAPIWrapper(wiki_client=<module 'wikipedia' from '/opt/anaconda3/lib/python3.12/site-packages/wikipedia/__init__.py'>, top_k_results=1, lang='en', load_all_available_meta=False, doc_content_chars_max=250))"
      ]
     },
     "execution_count": 26,
     "metadata": {},
     "output_type": "execute_result"
    }
   ],
   "source": [
    "from langchain_community.tools import WikipediaQueryRun\n",
    "from langchain_community.utilities import WikipediaAPIWrapper\n",
    "api_wrapper=WikipediaAPIWrapper(top_k_results=1,doc_content_chars_max=250)\n",
    "wikipedia=WikipediaQueryRun(api_wrapper=api_wrapper)\n",
    "wikipedia\n"
   ]
  },
  {
   "cell_type": "markdown",
   "id": "2b187bb2",
   "metadata": {},
   "source": [
    "Loading text and saving in text documents  from the link "
   ]
  },
  {
   "cell_type": "code",
   "execution_count": 27,
   "id": "3004261f",
   "metadata": {},
   "outputs": [
    {
     "data": {
      "text/plain": [
       "['',\n",
       " 'Artificial intelligence (AI) is technology that enables computers and machines to simulate human learning, comprehension, problem solving, decision making, creativity and autonomy.',\n",
       " '',\n",
       " 'Applications and devices equipped with AI can see and identify objects. They can understand and respond to human language. They can learn from new information and experience. They can make detailed recommendations to users and experts.\\xa0They can act independently, replacing the need for human intelligence or intervention (a classic example being a self-driving car).',\n",
       " 'But in 2024, most AI researchers, practitioners and most AI-related headlines are focused on breakthroughs in generative AI\\xa0(gen AI), a technology that can create original text, images, video and other content. To fully understand generative AI, it’s important to first understand the technologies on which generative AI tools are built: machine learning\\xa0(ML) and deep learning.']"
      ]
     },
     "execution_count": 27,
     "metadata": {},
     "output_type": "execute_result"
    }
   ],
   "source": [
    "from langchain_community.document_loaders import WebBaseLoader\n",
    "import bs4\n",
    "loader=WebBaseLoader(web_paths=(\"https://www.ibm.com/topics/artificial-intelligence\",),\n",
    "                     bs_kwargs=dict(parse_only=bs4.SoupStrainer(\n",
    "                      class_=(\"rich-text text\")    \n",
    "                     )))\n",
    "text_documents2=loader.load()\n",
    "text_documents2[0].page_content.splitlines()[:5]"
   ]
  },
  {
   "cell_type": "markdown",
   "id": "1fc20f71",
   "metadata": {},
   "source": [
    "Splitting the text documents in small parts"
   ]
  },
  {
   "cell_type": "code",
   "execution_count": 28,
   "id": "f0e4c2b1",
   "metadata": {},
   "outputs": [
    {
     "data": {
      "text/plain": [
       "[Document(metadata={'source': 'https://www.ibm.com/topics/artificial-intelligence'}, page_content='Artificial intelligence (AI) is technology that enables computers and machines to simulate human learning, comprehension, problem solving, decision making, creativity and autonomy.\\n\\nApplications and devices equipped with AI can see and identify objects. They can understand and respond to human language. They can learn from new information and experience. They can make detailed recommendations to users and experts.\\xa0They can act independently, replacing the need for human intelligence or intervention (a classic example being a self-driving car).\\nBut in 2024, most AI researchers, practitioners and most AI-related headlines are focused on breakthroughs in generative AI\\xa0(gen AI), a technology that can create original text, images, video and other content. To fully understand generative AI, it’s important to first understand the technologies on which generative AI tools are built: machine learning\\xa0(ML) and deep learning.')]"
      ]
     },
     "execution_count": 28,
     "metadata": {},
     "output_type": "execute_result"
    }
   ],
   "source": [
    "from langchain.text_splitter import RecursiveCharacterTextSplitter\n",
    "text_splitter=RecursiveCharacterTextSplitter(chunk_size=1000,chunk_overlap=200)\n",
    "documents=text_splitter.split_documents(text_documents2)\n",
    "documents[:1]"
   ]
  },
  {
   "cell_type": "markdown",
   "id": "1b054072",
   "metadata": {},
   "source": [
    "Embedding the small ext documents and saving them in vector store "
   ]
  },
  {
   "cell_type": "code",
   "execution_count": 29,
   "id": "e91927ac",
   "metadata": {},
   "outputs": [
    {
     "data": {
      "text/plain": [
       "VectorStoreRetriever(tags=['FAISS', 'HuggingFaceEmbeddings'], vectorstore=<langchain_community.vectorstores.faiss.FAISS object at 0x3c58a23f0>, search_kwargs={})"
      ]
     },
     "execution_count": 29,
     "metadata": {},
     "output_type": "execute_result"
    }
   ],
   "source": [
    "from langchain_community.vectorstores import FAISS\n",
    "from langchain_community.embeddings import HuggingFaceEmbeddings\n",
    "database=FAISS.from_documents(documents,HuggingFaceEmbeddings(model_name=\"sentence-transformers/all-MiniLM-L6-v2\"))\n",
    "retriever=database.as_retriever()\n",
    "retriever\n"
   ]
  },
  {
   "cell_type": "markdown",
   "id": "af2345f2",
   "metadata": {},
   "source": [
    "Creating Artificial Intelligence search tool using retriever"
   ]
  },
  {
   "cell_type": "code",
   "execution_count": 30,
   "id": "6db5c06c",
   "metadata": {},
   "outputs": [
    {
     "data": {
      "text/plain": [
       "'Artificial Intelligence Search'"
      ]
     },
     "execution_count": 30,
     "metadata": {},
     "output_type": "execute_result"
    }
   ],
   "source": [
    "from langchain.tools.retriever import create_retriever_tool\n",
    "AI_search=create_retriever_tool(retriever,\"Artificial Intelligence Search\",\"If I ask any question realted to artificial Intelligence use this tool\")\n",
    "AI_search.name"
   ]
  },
  {
   "cell_type": "markdown",
   "id": "500577b1",
   "metadata": {},
   "source": [
    "Making Arxiv Tool "
   ]
  },
  {
   "cell_type": "code",
   "execution_count": 31,
   "id": "3bcd486d",
   "metadata": {},
   "outputs": [
    {
     "data": {
      "text/plain": [
       "'arxiv'"
      ]
     },
     "execution_count": 31,
     "metadata": {},
     "output_type": "execute_result"
    }
   ],
   "source": [
    "from langchain_community.utilities import ArxivAPIWrapper\n",
    "from langchain_community.tools import ArxivQueryRun\n",
    "arxiv_wrapper=ArxivAPIWrapper(top_k_results=1,doc_content_chars_max=150)\n",
    "arxiv=ArxivQueryRun(api_wrapper=arxiv_wrapper)\n",
    "arxiv.name"
   ]
  },
  {
   "cell_type": "markdown",
   "id": "238a811b",
   "metadata": {},
   "source": [
    "Combining tools"
   ]
  },
  {
   "cell_type": "code",
   "execution_count": 32,
   "id": "a612be0d",
   "metadata": {},
   "outputs": [],
   "source": [
    "tools=[wikipedia,AI_search,arxiv]"
   ]
  },
  {
   "cell_type": "markdown",
   "id": "bea8456c",
   "metadata": {},
   "source": [
    "Using llama2 llm with the help of ollama"
   ]
  },
  {
   "cell_type": "code",
   "execution_count": 33,
   "id": "64d8a21b",
   "metadata": {},
   "outputs": [],
   "source": [
    "from langchain_community.chat_models import ChatOllama\n",
    "\n",
    "llm = ChatOllama(model=\"llama2\") "
   ]
  },
  {
   "cell_type": "markdown",
   "id": "0f0a4c88",
   "metadata": {},
   "source": [
    "Creating prompt"
   ]
  },
  {
   "cell_type": "code",
   "execution_count": 34,
   "id": "b263f739",
   "metadata": {},
   "outputs": [],
   "source": [
    "\n",
    "from langchain_core.prompts import ChatPromptTemplate\n",
    "prompt=ChatPromptTemplate.from_template(\"\"\" Answer to the my querys using context and also give  the source of that in your answer\n",
    "<context>\n",
    "{context}\n",
    "</context>\n",
    "Question:{input}\n",
    "{agent_scratchpad}                                 \n",
    "                                           \"\"\"\n",
    "\n",
    " )"
   ]
  },
  {
   "cell_type": "markdown",
   "id": "ee3b19ae",
   "metadata": {},
   "source": [
    "Agents"
   ]
  },
  {
   "cell_type": "code",
   "execution_count": 35,
   "id": "6e53f137",
   "metadata": {},
   "outputs": [],
   "source": [
    "from langchain.agents import create_openai_tools_agent\n",
    "agent=create_openai_tools_agent(llm,tools,prompt)"
   ]
  },
  {
   "cell_type": "code",
   "execution_count": 36,
   "id": "48edd66e",
   "metadata": {},
   "outputs": [
    {
     "data": {
      "text/plain": [
       "AgentExecutor(verbose=False, agent=RunnableMultiActionAgent(runnable=RunnableAssign(mapper={\n",
       "  agent_scratchpad: RunnableLambda(lambda x: format_to_openai_tool_messages(x['intermediate_steps']))\n",
       "})\n",
       "| ChatPromptTemplate(input_variables=['agent_scratchpad', 'context', 'input'], input_types={}, partial_variables={}, messages=[HumanMessagePromptTemplate(prompt=PromptTemplate(input_variables=['agent_scratchpad', 'context', 'input'], input_types={}, partial_variables={}, template=' Answer to the my querys using context and also give  the source of that in your answer\\n<context>\\n{context}\\n</context>\\nQuestion:{input}\\n{agent_scratchpad}                                 \\n                                           '), additional_kwargs={})])\n",
       "| RunnableBinding(bound=ChatOllama(), kwargs={'tools': [{'type': 'function', 'function': {'name': 'wikipedia', 'description': 'A wrapper around Wikipedia. Useful for when you need to answer general questions about people, places, companies, facts, historical events, or other subjects. Input should be a search query.', 'parameters': {'properties': {'query': {'description': 'query to look up on wikipedia', 'type': 'string'}}, 'required': ['query'], 'type': 'object'}}}, {'type': 'function', 'function': {'name': 'Artificial Intelligence Search', 'description': 'If I ask any question realted to artificial Intelligence use this tool', 'parameters': {'properties': {'query': {'description': 'query to look up in retriever', 'type': 'string'}}, 'required': ['query'], 'type': 'object'}}}, {'type': 'function', 'function': {'name': 'arxiv', 'description': 'A wrapper around Arxiv.org Useful for when you need to answer questions about Physics, Mathematics, Computer Science, Quantitative Biology, Quantitative Finance, Statistics, Electrical Engineering, and Economics from scientific articles on arxiv.org. Input should be a search query.', 'parameters': {'properties': {'query': {'description': 'search query to look up', 'type': 'string'}}, 'required': ['query'], 'type': 'object'}}}]}, config={}, config_factories=[])\n",
       "| OpenAIToolsAgentOutputParser(), input_keys_arg=[], return_keys_arg=[], stream_runnable=True), tools=[WikipediaQueryRun(api_wrapper=WikipediaAPIWrapper(wiki_client=<module 'wikipedia' from '/opt/anaconda3/lib/python3.12/site-packages/wikipedia/__init__.py'>, top_k_results=1, lang='en', load_all_available_meta=False, doc_content_chars_max=250)), Tool(name='Artificial Intelligence Search', description='If I ask any question realted to artificial Intelligence use this tool', args_schema=<class 'langchain_core.tools.retriever.RetrieverInput'>, func=functools.partial(<function _get_relevant_documents at 0x110dde0c0>, retriever=VectorStoreRetriever(tags=['FAISS', 'HuggingFaceEmbeddings'], vectorstore=<langchain_community.vectorstores.faiss.FAISS object at 0x3c58a23f0>, search_kwargs={}), document_prompt=PromptTemplate(input_variables=['page_content'], input_types={}, partial_variables={}, template='{page_content}'), document_separator='\\n\\n', response_format='content'), coroutine=functools.partial(<function _aget_relevant_documents at 0x110dde200>, retriever=VectorStoreRetriever(tags=['FAISS', 'HuggingFaceEmbeddings'], vectorstore=<langchain_community.vectorstores.faiss.FAISS object at 0x3c58a23f0>, search_kwargs={}), document_prompt=PromptTemplate(input_variables=['page_content'], input_types={}, partial_variables={}, template='{page_content}'), document_separator='\\n\\n', response_format='content')), ArxivQueryRun(api_wrapper=ArxivAPIWrapper(arxiv_search=<class 'arxiv.Search'>, arxiv_exceptions=(<class 'arxiv.ArxivError'>, <class 'arxiv.UnexpectedEmptyPageError'>, <class 'arxiv.HTTPError'>), top_k_results=1, ARXIV_MAX_QUERY_LENGTH=300, continue_on_failure=False, load_max_docs=100, load_all_available_meta=False, doc_content_chars_max=150))])"
      ]
     },
     "execution_count": 36,
     "metadata": {},
     "output_type": "execute_result"
    }
   ],
   "source": [
    "from langchain.agents import AgentExecutor\n",
    "agent_excutor=AgentExecutor(agent=agent,tools=tools,verboe=True)\n",
    "agent_excutor"
   ]
  },
  {
   "cell_type": "code",
   "execution_count": 37,
   "id": "4aa0bf0d",
   "metadata": {},
   "outputs": [
    {
     "data": {
      "text/plain": [
       "{'input': 'What is artificial intelligence',\n",
       " 'context': '',\n",
       " 'output': 'Great! I\\'d be happy to help you understand what artificial intelligence (AI) is.\\n\\nArtificial intelligence (AI) refers to the development of computer systems that can perform tasks that typically require human intelligence, such as learning, problem-solving, decision-making, and communication. AI systems use algorithms and machine learning techniques to analyze data, identify patterns, and make predictions or decisions based on that data.\\n\\nThere are several types of AI, including:\\n\\n1. Narrow or weak AI: This type of AI is designed to perform a specific task, such as playing chess or recognizing faces. Examples include Siri, Alexa, and Google Assistant.\\n2. General or strong AI: This type of AI is designed to perform any intellectual task that a human can do. It is still in the realm of science fiction, but researchers are working towards developing this type of AI.\\n3. Superintelligence: This type of AI is significantly more intelligent than the best human minds. Examples include the development of self-driving cars or medical diagnosis systems that can outperform human doctors.\\n4. Artificial general intelligence (AGI): This type of AI is designed to perform any intellectual task that a human can do, and it is considered the holy grail of AI research. Examples include IBM\\'s Watson and DeepMind\\'s AlphaGo.\\n\\nThe sources for this information are:\\n\\n1. \"Artificial Intelligence\" by John McCarthy, published in 1956, which is considered the first formal definition of AI.\\n2. \"AI: A Modern Approach\" by Stuart Russell and Peter Norvig, published in 1995, which provides a comprehensive overview of AI and its applications.\\n3. \"Artificial Intelligence: A Survey of the Field\" by Michael A. Nielsen, published in 2009, which provides an up-to-date survey of the field of AI research.\\n4. \"The Future of Artificial Intelligence\" by Yoav Goldberg, published in 2017, which provides a comprehensive overview of the current state of AI research and its potential future developments.\\n\\nI hope this helps! Let me know if you have any other questions.'}"
      ]
     },
     "execution_count": 37,
     "metadata": {},
     "output_type": "execute_result"
    }
   ],
   "source": [
    "agent_excutor.invoke({\"input\":\"What is artificial intelligence\",\"context\": \"\" })"
   ]
  }
 ],
 "metadata": {
  "kernelspec": {
   "display_name": "base",
   "language": "python",
   "name": "python3"
  },
  "language_info": {
   "codemirror_mode": {
    "name": "ipython",
    "version": 3
   },
   "file_extension": ".py",
   "mimetype": "text/x-python",
   "name": "python",
   "nbconvert_exporter": "python",
   "pygments_lexer": "ipython3",
   "version": "3.12.7"
  }
 },
 "nbformat": 4,
 "nbformat_minor": 5
}
