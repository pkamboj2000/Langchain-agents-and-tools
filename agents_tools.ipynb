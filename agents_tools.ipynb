{
 "cells": [
  {
   "cell_type": "markdown",
   "id": "d06c8929",
   "metadata": {},
   "source": [
    "Making Wiki tool"
   ]
  },
  {
   "cell_type": "code",
   "execution_count": 23,
   "id": "0c703364",
   "metadata": {},
   "outputs": [
    {
     "data": {
      "text/plain": [
       "WikipediaQueryRun(api_wrapper=WikipediaAPIWrapper(wiki_client=<module 'wikipedia' from '/opt/anaconda3/lib/python3.12/site-packages/wikipedia/__init__.py'>, top_k_results=1, lang='en', load_all_available_meta=False, doc_content_chars_max=250))"
      ]
     },
     "execution_count": 23,
     "metadata": {},
     "output_type": "execute_result"
    }
   ],
   "source": [
    "from langchain_community.tools import WikipediaQueryRun\n",
    "from langchain_community.utilities import WikipediaAPIWrapper\n",
    "api_wrapper=WikipediaAPIWrapper(top_k_results=1,doc_content_chars_max=250)\n",
    "tool=WikipediaQueryRun(api_wrapper=api_wrapper)\n",
    "tool\n"
   ]
  },
  {
   "cell_type": "markdown",
   "id": "2b187bb2",
   "metadata": {},
   "source": [
    "Loading text and saving in text documents  from the link "
   ]
  },
  {
   "cell_type": "code",
   "execution_count": 24,
   "id": "3004261f",
   "metadata": {},
   "outputs": [
    {
     "data": {
      "text/plain": [
       "['',\n",
       " 'Artificial intelligence (AI) is technology that enables computers and machines to simulate human learning, comprehension, problem solving, decision making, creativity and autonomy.',\n",
       " '',\n",
       " 'Applications and devices equipped with AI can see and identify objects. They can understand and respond to human language. They can learn from new information and experience. They can make detailed recommendations to users and experts.\\xa0They can act independently, replacing the need for human intelligence or intervention (a classic example being a self-driving car).',\n",
       " 'But in 2024, most AI researchers, practitioners and most AI-related headlines are focused on breakthroughs in generative AI\\xa0(gen AI), a technology that can create original text, images, video and other content. To fully understand generative AI, it’s important to first understand the technologies on which generative AI tools are built: machine learning\\xa0(ML) and deep learning.']"
      ]
     },
     "execution_count": 24,
     "metadata": {},
     "output_type": "execute_result"
    }
   ],
   "source": [
    "from langchain_community.document_loaders import WebBaseLoader\n",
    "import bs4\n",
    "loader=WebBaseLoader(web_paths=(\"https://www.ibm.com/topics/artificial-intelligence\",),\n",
    "                     bs_kwargs=dict(parse_only=bs4.SoupStrainer(\n",
    "                      class_=(\"rich-text text\")    \n",
    "                     )))\n",
    "text_documents2=loader.load()\n",
    "text_documents2[0].page_content.splitlines()[:5]"
   ]
  },
  {
   "cell_type": "markdown",
   "id": "1fc20f71",
   "metadata": {},
   "source": [
    "Splitting the text documents in small parts"
   ]
  },
  {
   "cell_type": "code",
   "execution_count": 25,
   "id": "f0e4c2b1",
   "metadata": {},
   "outputs": [
    {
     "data": {
      "text/plain": [
       "[Document(metadata={'source': 'https://www.ibm.com/topics/artificial-intelligence'}, page_content='Artificial intelligence (AI) is technology that enables computers and machines to simulate human learning, comprehension, problem solving, decision making, creativity and autonomy.\\n\\nApplications and devices equipped with AI can see and identify objects. They can understand and respond to human language. They can learn from new information and experience. They can make detailed recommendations to users and experts.\\xa0They can act independently, replacing the need for human intelligence or intervention (a classic example being a self-driving car).\\nBut in 2024, most AI researchers, practitioners and most AI-related headlines are focused on breakthroughs in generative AI\\xa0(gen AI), a technology that can create original text, images, video and other content. To fully understand generative AI, it’s important to first understand the technologies on which generative AI tools are built: machine learning\\xa0(ML) and deep learning.')]"
      ]
     },
     "execution_count": 25,
     "metadata": {},
     "output_type": "execute_result"
    }
   ],
   "source": [
    "from langchain.text_splitter import RecursiveCharacterTextSplitter\n",
    "text_splitter=RecursiveCharacterTextSplitter(chunk_size=1000,chunk_overlap=200)\n",
    "documents=text_splitter.split_documents(text_documents2)\n",
    "documents[:1]"
   ]
  },
  {
   "cell_type": "markdown",
   "id": "1b054072",
   "metadata": {},
   "source": [
    "Embedding the small ext documents and saving them in vector store "
   ]
  },
  {
   "cell_type": "code",
   "execution_count": 26,
   "id": "e91927ac",
   "metadata": {},
   "outputs": [
    {
     "data": {
      "text/plain": [
       "VectorStoreRetriever(tags=['FAISS', 'HuggingFaceEmbeddings'], vectorstore=<langchain_community.vectorstores.faiss.FAISS object at 0x3780f3500>, search_kwargs={})"
      ]
     },
     "execution_count": 26,
     "metadata": {},
     "output_type": "execute_result"
    }
   ],
   "source": [
    "from langchain_community.vectorstores import FAISS\n",
    "from langchain_community.embeddings import HuggingFaceEmbeddings\n",
    "database=FAISS.from_documents(documents,HuggingFaceEmbeddings(model_name=\"sentence-transformers/all-MiniLM-L6-v2\"))\n",
    "retriever=database.as_retriever()\n",
    "retriever\n"
   ]
  },
  {
   "cell_type": "markdown",
   "id": "af2345f2",
   "metadata": {},
   "source": [
    "Creating Artificial Intelligence search tool using retriever"
   ]
  },
  {
   "cell_type": "code",
   "execution_count": 27,
   "id": "6db5c06c",
   "metadata": {},
   "outputs": [
    {
     "data": {
      "text/plain": [
       "'Artificial Intelligence Search'"
      ]
     },
     "execution_count": 27,
     "metadata": {},
     "output_type": "execute_result"
    }
   ],
   "source": [
    "from langchain.tools.retriever import create_retriever_tool\n",
    "retriever_tool=create_retriever_tool(retriever,\"Artificial Intelligence Search\",\"If I ask any question realted to artificial Intelligence use this tool\")\n",
    "retriever_tool.name"
   ]
  },
  {
   "cell_type": "markdown",
   "id": "500577b1",
   "metadata": {},
   "source": [
    "Making Arxiv Tool "
   ]
  },
  {
   "cell_type": "code",
   "execution_count": null,
   "id": "3bcd486d",
   "metadata": {},
   "outputs": [],
   "source": [
    "from langchain_community.utilities import ArxivAPIWrapper\n",
    "from langchain_community.tools import ArxivQueryRun\n",
    "arxiv_wrapper=Arxiv"
   ]
  }
 ],
 "metadata": {
  "kernelspec": {
   "display_name": "base",
   "language": "python",
   "name": "python3"
  },
  "language_info": {
   "codemirror_mode": {
    "name": "ipython",
    "version": 3
   },
   "file_extension": ".py",
   "mimetype": "text/x-python",
   "name": "python",
   "nbconvert_exporter": "python",
   "pygments_lexer": "ipython3",
   "version": "3.12.7"
  }
 },
 "nbformat": 4,
 "nbformat_minor": 5
}
