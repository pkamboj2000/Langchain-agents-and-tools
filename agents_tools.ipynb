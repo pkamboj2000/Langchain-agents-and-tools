{
 "cells": [
  {
   "cell_type": "markdown",
   "id": "d06c8929",
   "metadata": {},
   "source": [
    "## Making Wiki tool\n",
    "\n"
   ]
  },
  {
   "cell_type": "code",
   "execution_count": null,
   "id": "e2d1c4ec",
   "metadata": {},
   "outputs": [],
   "source": [
    "from langchain_community.tools import WikipediaQueryRun\n",
    "from langchain_community.utilities import WikipediaAPIWrapper\n",
    "from langchain_community.document_loaders import WebBaseLoader\n",
    "import bs4\n",
    "from langchain.text_splitter import RecursiveCharacterTextSplitter\n",
    "from langchain_community.vectorstores import FAISS\n",
    "from langchain_community.embeddings import HuggingFaceEmbeddings\n",
    "from langchain.tools.retriever import create_retriever_tool\n",
    "from langchain_community.utilities import ArxivAPIWrapper\n",
    "from langchain_community.tools import ArxivQueryRun\n",
    "from langchain_core.prompts import ChatPromptTemplate\n",
    "from langchain.agents import create_openai_tools_agent\n",
    "from langchain.agents import AgentExecutor\n",
    "from langchain_community.tools import DuckDuckGoSearchRun\n",
    "from langchain_core.tools import Tool\n",
    "from langchain_groq import ChatGroq\n",
    "from dotenv import load_dotenv\n",
    "import os\n"
   ]
  },
  {
   "cell_type": "markdown",
   "id": "bdb280fc",
   "metadata": {},
   "source": [
    "## Making wikipedia tool\n",
    "\n"
   ]
  },
  {
   "cell_type": "code",
   "execution_count": 24,
   "id": "0c703364",
   "metadata": {},
   "outputs": [
    {
     "data": {
      "text/plain": [
       "WikipediaQueryRun(api_wrapper=WikipediaAPIWrapper(wiki_client=<module 'wikipedia' from '/opt/anaconda3/lib/python3.12/site-packages/wikipedia/__init__.py'>, top_k_results=1, lang='en', load_all_available_meta=False, doc_content_chars_max=250))"
      ]
     },
     "execution_count": 24,
     "metadata": {},
     "output_type": "execute_result"
    }
   ],
   "source": [
    "api_wrapper=WikipediaAPIWrapper(top_k_results=1,doc_content_chars_max=250)\n",
    "wikipedia=WikipediaQueryRun(api_wrapper=api_wrapper)\n",
    "wikipedia\n"
   ]
  },
  {
   "cell_type": "markdown",
   "id": "2b187bb2",
   "metadata": {},
   "source": [
    "## Loading text and saving in text documents  from the link "
   ]
  },
  {
   "cell_type": "code",
   "execution_count": 25,
   "id": "3004261f",
   "metadata": {},
   "outputs": [
    {
     "data": {
      "text/plain": [
       "['',\n",
       " 'Artificial intelligence (AI) is technology that enables computers and machines to simulate human learning, comprehension, problem solving, decision making, creativity and autonomy.',\n",
       " '',\n",
       " 'Applications and devices equipped with AI can see and identify objects. They can understand and respond to human language. They can learn from new information and experience. They can make detailed recommendations to users and experts.\\xa0They can act independently, replacing the need for human intelligence or intervention (a classic example being a self-driving car).',\n",
       " 'But in 2024, most AI researchers, practitioners and most AI-related headlines are focused on breakthroughs in generative AI\\xa0(gen AI), a technology that can create original text, images, video and other content. To fully understand generative AI, it’s important to first understand the technologies on which generative AI tools are built: machine learning\\xa0(ML) and deep learning.']"
      ]
     },
     "execution_count": 25,
     "metadata": {},
     "output_type": "execute_result"
    }
   ],
   "source": [
    "loader=WebBaseLoader(web_paths=(\"https://www.ibm.com/topics/artificial-intelligence\",),\n",
    "                     bs_kwargs=dict(parse_only=bs4.SoupStrainer(\n",
    "                      class_=(\"rich-text text\")    \n",
    "                     )))\n",
    "text_documents2=loader.load()\n",
    "text_documents2[0].page_content.splitlines()[:5]"
   ]
  },
  {
   "cell_type": "markdown",
   "id": "1fc20f71",
   "metadata": {},
   "source": [
    "## Splitting the text documents in small parts"
   ]
  },
  {
   "cell_type": "code",
   "execution_count": 26,
   "id": "f0e4c2b1",
   "metadata": {},
   "outputs": [
    {
     "data": {
      "text/plain": [
       "[Document(metadata={'source': 'https://www.ibm.com/topics/artificial-intelligence'}, page_content='Artificial intelligence (AI) is technology that enables computers and machines to simulate human learning, comprehension, problem solving, decision making, creativity and autonomy.\\n\\nApplications and devices equipped with AI can see and identify objects. They can understand and respond to human language. They can learn from new information and experience. They can make detailed recommendations to users and experts.\\xa0They can act independently, replacing the need for human intelligence or intervention (a classic example being a self-driving car).\\nBut in 2024, most AI researchers, practitioners and most AI-related headlines are focused on breakthroughs in generative AI\\xa0(gen AI), a technology that can create original text, images, video and other content. To fully understand generative AI, it’s important to first understand the technologies on which generative AI tools are built: machine learning\\xa0(ML) and deep learning.')]"
      ]
     },
     "execution_count": 26,
     "metadata": {},
     "output_type": "execute_result"
    }
   ],
   "source": [
    "text_splitter=RecursiveCharacterTextSplitter(chunk_size=1000,chunk_overlap=200)\n",
    "documents=text_splitter.split_documents(text_documents2)\n",
    "documents[:1]"
   ]
  },
  {
   "cell_type": "markdown",
   "id": "1b054072",
   "metadata": {},
   "source": [
    "## Embedding the small ext documents and saving them in vector store "
   ]
  },
  {
   "cell_type": "code",
   "execution_count": 27,
   "id": "e91927ac",
   "metadata": {},
   "outputs": [
    {
     "data": {
      "text/plain": [
       "VectorStoreRetriever(tags=['FAISS', 'HuggingFaceEmbeddings'], vectorstore=<langchain_community.vectorstores.faiss.FAISS object at 0x34468b770>, search_kwargs={})"
      ]
     },
     "execution_count": 27,
     "metadata": {},
     "output_type": "execute_result"
    }
   ],
   "source": [
    "database=FAISS.from_documents(documents,HuggingFaceEmbeddings(model_name=\"sentence-transformers/all-MiniLM-L6-v2\"))\n",
    "retriever=database.as_retriever()\n",
    "retriever\n"
   ]
  },
  {
   "cell_type": "markdown",
   "id": "500577b1",
   "metadata": {},
   "source": [
    "## Making Arxiv Tool "
   ]
  },
  {
   "cell_type": "code",
   "execution_count": 29,
   "id": "3bcd486d",
   "metadata": {},
   "outputs": [
    {
     "data": {
      "text/plain": [
       "'arxiv'"
      ]
     },
     "execution_count": 29,
     "metadata": {},
     "output_type": "execute_result"
    }
   ],
   "source": [
    "arxiv_wrapper=ArxivAPIWrapper(top_k_results=1,doc_content_chars_max=150)\n",
    "arxiv=ArxivQueryRun(api_wrapper=arxiv_wrapper)\n",
    "arxiv.name"
   ]
  },
  {
   "cell_type": "markdown",
   "id": "13249977",
   "metadata": {},
   "source": [
    "## Making calculator tool"
   ]
  },
  {
   "cell_type": "code",
   "execution_count": 30,
   "id": "b5a53340",
   "metadata": {},
   "outputs": [],
   "source": [
    "def basic_calculator(expression: str) -> str:\n",
    "    try:\n",
    "        result = eval(expression, {\"__builtins__\": {}}, {})\n",
    "        return str(result)\n",
    "    except Exception as e:\n",
    "        return f\"Error: {str(e)}\"\n",
    "calculator_tool = Tool(\n",
    "    name=\"Calculator\",\n",
    "    func=basic_calculator,\n",
    "    description=\"Evaluate a basic math expression. Example: '12 / (2 + 1)'\"\n",
    ")"
   ]
  },
  {
   "cell_type": "markdown",
   "id": "977f58f5",
   "metadata": {},
   "source": [
    "## Creating web search tool"
   ]
  },
  {
   "cell_type": "code",
   "execution_count": 31,
   "id": "8fa900a0",
   "metadata": {},
   "outputs": [],
   "source": [
    "search_tool = DuckDuckGoSearchRun()\n",
    "\n",
    "\n",
    "web_search = Tool(\n",
    "    name=\"web_search\",\n",
    "    description=\"Use this tool to search the internet and return text summaries from DuckDuckGo.\",\n",
    "    func=lambda input: search_tool.run(input)\n",
    "\n",
    ")"
   ]
  },
  {
   "cell_type": "markdown",
   "id": "238a811b",
   "metadata": {},
   "source": [
    "## Combining tools"
   ]
  },
  {
   "cell_type": "code",
   "execution_count": 32,
   "id": "a612be0d",
   "metadata": {},
   "outputs": [],
   "source": [
    "tools=[wikipedia,AI_search,arxiv,calculator_tool]"
   ]
  },
  {
   "cell_type": "markdown",
   "id": "bea8456c",
   "metadata": {},
   "source": [
    "## Using GROQ llm "
   ]
  },
  {
   "cell_type": "code",
   "execution_count": 33,
   "id": "64d8a21b",
   "metadata": {},
   "outputs": [],
   "source": [
    "load_dotenv()\n",
    "os.environ[\"GROQ_API_KEY\"]=os.getenv(\"GROQ_API_KEY\")\n",
    "llm = ChatGroq(model=\"qwen-qwq-32b\") "
   ]
  },
  {
   "cell_type": "markdown",
   "id": "0f0a4c88",
   "metadata": {},
   "source": [
    "## Creating prompt"
   ]
  },
  {
   "cell_type": "code",
   "execution_count": 34,
   "id": "b263f739",
   "metadata": {},
   "outputs": [],
   "source": [
    "prompt=ChatPromptTemplate.from_template(\"\"\" You are an intelligent AI assistant. You have access to the following tools:\n",
    "\n",
    "- Use them if they are helpful.\n",
    "- Prefer using them when answering technical or factual questions.\n",
    "- Do not guess answers if the tools can help.\n",
    "<context>\n",
    "{context}\n",
    "</context>\n",
    "Question:{input}\n",
    "{agent_scratchpad}                                 \n",
    "                                           \"\"\"\n",
    "\n",
    " )"
   ]
  },
  {
   "cell_type": "markdown",
   "id": "ee3b19ae",
   "metadata": {},
   "source": [
    "## Agents bucket to give name and description to llm "
   ]
  },
  {
   "cell_type": "code",
   "execution_count": 35,
   "id": "6e53f137",
   "metadata": {},
   "outputs": [],
   "source": [
    "agent=create_openai_tools_agent(llm,tools,prompt)"
   ]
  },
  {
   "cell_type": "markdown",
   "id": "868f27a7",
   "metadata": {},
   "source": [
    "## Execute the llm output and give back the result in prompt  "
   ]
  },
  {
   "cell_type": "code",
   "execution_count": 36,
   "id": "48edd66e",
   "metadata": {},
   "outputs": [
    {
     "data": {
      "text/plain": [
       "['AgentExecutor(verbose=True, agent=RunnableMultiActionAgent(runnable=RunnableAssign(mapper={',\n",
       " \"  agent_scratchpad: RunnableLambda(lambda x: format_to_openai_tool_messages(x['intermediate_steps']))\",\n",
       " '})',\n",
       " \"| ChatPromptTemplate(input_variables=['agent_scratchpad', 'context', 'input'], input_types={}, partial_variables={}, messages=[HumanMessagePromptTemplate(prompt=PromptTemplate(input_variables=['agent_scratchpad', 'context', 'input'], input_types={}, partial_variables={}, template=' You are an intelligent AI assistant. You have access to the following tools:\\\\n\\\\n- Use them if they are helpful.\\\\n- Prefer using them when answering technical or factual questions.\\\\n- Do not guess answers if the tools can help.\\\\n<context>\\\\n{context}\\\\n</context>\\\\nQuestion:{input}\\\\n{agent_scratchpad}                                 \\\\n                                           '), additional_kwargs={})])\",\n",
       " '| RunnableBinding(bound=ChatGroq(client=<groq.resources.chat.completions.Completions object at 0x34aff12e0>, async_client=<groq.resources.chat.completions.AsyncCompletions object at 0x34aff01a0>, model_name=\\'qwen-qwq-32b\\', model_kwargs={}, groq_api_key=SecretStr(\\'**********\\')), kwargs={\\'tools\\': [{\\'type\\': \\'function\\', \\'function\\': {\\'name\\': \\'wikipedia\\', \\'description\\': \\'A wrapper around Wikipedia. Useful for when you need to answer general questions about people, places, companies, facts, historical events, or other subjects. Input should be a search query.\\', \\'parameters\\': {\\'properties\\': {\\'query\\': {\\'description\\': \\'query to look up on wikipedia\\', \\'type\\': \\'string\\'}}, \\'required\\': [\\'query\\'], \\'type\\': \\'object\\'}}}, {\\'type\\': \\'function\\', \\'function\\': {\\'name\\': \\'Artificial Intelligence Search\\', \\'description\\': \\' Use the tool to answer: What is artificial intelligence do not answer yourself use this tool first\\', \\'parameters\\': {\\'properties\\': {\\'query\\': {\\'description\\': \\'query to look up in retriever\\', \\'type\\': \\'string\\'}}, \\'required\\': [\\'query\\'], \\'type\\': \\'object\\'}}}, {\\'type\\': \\'function\\', \\'function\\': {\\'name\\': \\'arxiv\\', \\'description\\': \\'A wrapper around Arxiv.org Useful for when you need to answer questions about Physics, Mathematics, Computer Science, Quantitative Biology, Quantitative Finance, Statistics, Electrical Engineering, and Economics from scientific articles on arxiv.org. Input should be a search query.\\', \\'parameters\\': {\\'properties\\': {\\'query\\': {\\'description\\': \\'search query to look up\\', \\'type\\': \\'string\\'}}, \\'required\\': [\\'query\\'], \\'type\\': \\'object\\'}}}, {\\'type\\': \\'function\\', \\'function\\': {\\'name\\': \\'Calculator\\', \\'description\\': \"Evaluate a basic math expression. Example: \\'12 / (2 + 1)\\'\", \\'parameters\\': {\\'properties\\': {\\'__arg1\\': {\\'title\\': \\'__arg1\\', \\'type\\': \\'string\\'}}, \\'required\\': [\\'__arg1\\'], \\'type\\': \\'object\\'}}}]}, config={}, config_factories=[])']"
      ]
     },
     "execution_count": 36,
     "metadata": {},
     "output_type": "execute_result"
    }
   ],
   "source": [
    "agent_excutor=AgentExecutor(agent=agent,tools=tools,verbose=True,)\n",
    "repr(agent_excutor).splitlines()[:5]\n"
   ]
  },
  {
   "cell_type": "markdown",
   "id": "f50dd535",
   "metadata": {},
   "source": [
    "## Finally invoking the agent Executor"
   ]
  },
  {
   "cell_type": "code",
   "execution_count": null,
   "id": "4aa0bf0d",
   "metadata": {},
   "outputs": [
    {
     "name": "stdout",
     "output_type": "stream",
     "text": [
      "\n",
      "\n",
      "\u001b[1m> Entering new AgentExecutor chain...\u001b[0m\n",
      "\u001b[32;1m\u001b[1;3m\n",
      "Invoking: `wikipedia` with `{'query': 'artificial intelligence'}`\n",
      "\n",
      "\n",
      "\u001b[0m\u001b[36;1m\u001b[1;3mPage: Artificial intelligence\n",
      "Summary: Artificial intelligence (AI) is the capability of computational systems to perform tasks typically associated with human intelligence, such as learning, reasoning, problem-solving, perception, and decision-makin\u001b[0m\u001b[32;1m\u001b[1;3mArtificial Intelligence (AI) refers to the development of computer systems capable of performing tasks that typically require human intelligence. These tasks include learning from data, reasoning, problem-solving, perception (e.g., recognizing images or speech), and making decisions. AI systems achieve this through algorithms, machine learning models, and large datasets, enabling them to improve over time without explicit programming for every scenario.\n",
      "\n",
      "Common applications of AI include:\n",
      "- **Virtual assistants** (e.g., Siri, Alexa)\n",
      "- **Autonomous vehicles**\n",
      "- **Recommendation systems** (e.g., Netflix, Spotify)\n",
      "- **Medical diagnostics**\n",
      "- **Natural language processing** (e.g., chatbots, translation tools)\n",
      "\n",
      "The field of AI aims to create systems that can mimic or surpass human-like cognitive abilities, though most current AI is *narrow* (task-specific), like voice recognition, rather than *general* (human-like consciousness or adaptability across tasks).\u001b[0m\n",
      "\n",
      "\u001b[1m> Finished chain.\u001b[0m\n"
     ]
    },
    {
     "data": {
      "text/plain": [
       "'Artificial Intelligence (AI) refers to the development of computer systems capable of performing tasks that typically require human intelligence. These tasks include learning from data, reasoning, problem-solving, perception (e.g., recognizing images or speech), and making decisions. AI systems achieve this through algorithms, machine learning models, and large datasets, enabling them to improve over time without explicit programming for every scenario.\\n\\nCommon applications of AI include:\\n- **Virtual assistants** (e.g., Siri, Alexa)\\n- **Autonomous vehicles**\\n- **Recommendation systems** (e.g., Netflix, Spotify)\\n- **Medical diagnostics**\\n- **Natural language processing** (e.g., chatbots, translation tools)\\n\\nThe field of AI aims to create systems that can mimic or surpass human-like cognitive abilities, though most current AI is *narrow* (task-specific), like voice recognition, rather than *general* (human-like consciousness or adaptability across tasks).'"
      ]
     },
     "execution_count": 37,
     "metadata": {},
     "output_type": "execute_result"
    }
   ],
   "source": [
    "result=agent_excutor.invoke({\"input\":\"what is artificial intelligence\",\"context\": \"\" })\n",
    "result[\"output\"] "
   ]
  }
 ],
 "metadata": {
  "kernelspec": {
   "display_name": "base",
   "language": "python",
   "name": "python3"
  },
  "language_info": {
   "codemirror_mode": {
    "name": "ipython",
    "version": 3
   },
   "file_extension": ".py",
   "mimetype": "text/x-python",
   "name": "python",
   "nbconvert_exporter": "python",
   "pygments_lexer": "ipython3",
   "version": "3.12.7"
  }
 },
 "nbformat": 4,
 "nbformat_minor": 5
}
