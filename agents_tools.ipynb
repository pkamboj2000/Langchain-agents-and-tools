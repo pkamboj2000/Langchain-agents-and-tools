{
 "cells": [
  {
   "cell_type": "markdown",
   "id": "d06c8929",
   "metadata": {},
   "source": [
    "Making Wiki tool"
   ]
  },
  {
   "cell_type": "code",
   "execution_count": 61,
   "id": "e2d1c4ec",
   "metadata": {},
   "outputs": [],
   "source": [
    "from langchain_community.tools import WikipediaQueryRun\n",
    "from langchain_community.utilities import WikipediaAPIWrapper\n",
    "from langchain_community.document_loaders import WebBaseLoader\n",
    "import bs4\n",
    "from langchain.text_splitter import RecursiveCharacterTextSplitter\n",
    "from langchain_community.vectorstores import FAISS\n",
    "from langchain_community.embeddings import HuggingFaceEmbeddings\n",
    "from langchain.tools.retriever import create_retriever_tool\n",
    "from langchain_community.utilities import ArxivAPIWrapper\n",
    "from langchain_community.tools import ArxivQueryRun\n",
    "from langchain_community.chat_models import ChatOllama\n",
    "from langchain_core.prompts import ChatPromptTemplate\n",
    "from langchain.agents import create_openai_tools_agent\n",
    "from langchain.agents import AgentExecutor\n",
    "from langchain_community.tools import DuckDuckGoSearchRun\n",
    "from langchain_core.tools import Tool\n",
    "from langchain_core.runnables import RunnableLambda"
   ]
  },
  {
   "cell_type": "markdown",
   "id": "bdb280fc",
   "metadata": {},
   "source": [
    "making wikipedia tool"
   ]
  },
  {
   "cell_type": "code",
   "execution_count": 63,
   "id": "0c703364",
   "metadata": {},
   "outputs": [
    {
     "data": {
      "text/plain": [
       "WikipediaQueryRun(api_wrapper=WikipediaAPIWrapper(wiki_client=<module 'wikipedia' from '/opt/anaconda3/lib/python3.12/site-packages/wikipedia/__init__.py'>, top_k_results=1, lang='en', load_all_available_meta=False, doc_content_chars_max=250))"
      ]
     },
     "execution_count": 63,
     "metadata": {},
     "output_type": "execute_result"
    }
   ],
   "source": [
    "api_wrapper=WikipediaAPIWrapper(top_k_results=1,doc_content_chars_max=250)\n",
    "wikipedia=WikipediaQueryRun(api_wrapper=api_wrapper)\n",
    "wikipedia\n"
   ]
  },
  {
   "cell_type": "markdown",
   "id": "2b187bb2",
   "metadata": {},
   "source": [
    "Loading text and saving in text documents  from the link "
   ]
  },
  {
   "cell_type": "code",
   "execution_count": 64,
   "id": "3004261f",
   "metadata": {},
   "outputs": [
    {
     "data": {
      "text/plain": [
       "['',\n",
       " 'Artificial intelligence (AI) is technology that enables computers and machines to simulate human learning, comprehension, problem solving, decision making, creativity and autonomy.',\n",
       " '',\n",
       " 'Applications and devices equipped with AI can see and identify objects. They can understand and respond to human language. They can learn from new information and experience. They can make detailed recommendations to users and experts.\\xa0They can act independently, replacing the need for human intelligence or intervention (a classic example being a self-driving car).',\n",
       " 'But in 2024, most AI researchers, practitioners and most AI-related headlines are focused on breakthroughs in generative AI\\xa0(gen AI), a technology that can create original text, images, video and other content. To fully understand generative AI, it’s important to first understand the technologies on which generative AI tools are built: machine learning\\xa0(ML) and deep learning.']"
      ]
     },
     "execution_count": 64,
     "metadata": {},
     "output_type": "execute_result"
    }
   ],
   "source": [
    "loader=WebBaseLoader(web_paths=(\"https://www.ibm.com/topics/artificial-intelligence\",),\n",
    "                     bs_kwargs=dict(parse_only=bs4.SoupStrainer(\n",
    "                      class_=(\"rich-text text\")    \n",
    "                     )))\n",
    "text_documents2=loader.load()\n",
    "text_documents2[0].page_content.splitlines()[:5]"
   ]
  },
  {
   "cell_type": "markdown",
   "id": "1fc20f71",
   "metadata": {},
   "source": [
    "Splitting the text documents in small parts"
   ]
  },
  {
   "cell_type": "code",
   "execution_count": 65,
   "id": "f0e4c2b1",
   "metadata": {},
   "outputs": [
    {
     "data": {
      "text/plain": [
       "[Document(metadata={'source': 'https://www.ibm.com/topics/artificial-intelligence'}, page_content='Artificial intelligence (AI) is technology that enables computers and machines to simulate human learning, comprehension, problem solving, decision making, creativity and autonomy.\\n\\nApplications and devices equipped with AI can see and identify objects. They can understand and respond to human language. They can learn from new information and experience. They can make detailed recommendations to users and experts.\\xa0They can act independently, replacing the need for human intelligence or intervention (a classic example being a self-driving car).\\nBut in 2024, most AI researchers, practitioners and most AI-related headlines are focused on breakthroughs in generative AI\\xa0(gen AI), a technology that can create original text, images, video and other content. To fully understand generative AI, it’s important to first understand the technologies on which generative AI tools are built: machine learning\\xa0(ML) and deep learning.')]"
      ]
     },
     "execution_count": 65,
     "metadata": {},
     "output_type": "execute_result"
    }
   ],
   "source": [
    "text_splitter=RecursiveCharacterTextSplitter(chunk_size=1000,chunk_overlap=200)\n",
    "documents=text_splitter.split_documents(text_documents2)\n",
    "documents[:1]"
   ]
  },
  {
   "cell_type": "markdown",
   "id": "1b054072",
   "metadata": {},
   "source": [
    "Embedding the small ext documents and saving them in vector store "
   ]
  },
  {
   "cell_type": "code",
   "execution_count": 66,
   "id": "e91927ac",
   "metadata": {},
   "outputs": [
    {
     "data": {
      "text/plain": [
       "VectorStoreRetriever(tags=['FAISS', 'HuggingFaceEmbeddings'], vectorstore=<langchain_community.vectorstores.faiss.FAISS object at 0x10701d1c0>, search_kwargs={})"
      ]
     },
     "execution_count": 66,
     "metadata": {},
     "output_type": "execute_result"
    }
   ],
   "source": [
    "database=FAISS.from_documents(documents,HuggingFaceEmbeddings(model_name=\"sentence-transformers/all-MiniLM-L6-v2\"))\n",
    "retriever=database.as_retriever()\n",
    "retriever\n"
   ]
  },
  {
   "cell_type": "markdown",
   "id": "af2345f2",
   "metadata": {},
   "source": [
    "Creating Artificial Intelligence search tool using retriever"
   ]
  },
  {
   "cell_type": "code",
   "execution_count": 67,
   "id": "6db5c06c",
   "metadata": {},
   "outputs": [
    {
     "data": {
      "text/plain": [
       "'Artificial Intelligence Search'"
      ]
     },
     "execution_count": 67,
     "metadata": {},
     "output_type": "execute_result"
    }
   ],
   "source": [
    "AI_search=create_retriever_tool(retriever,\"Artificial Intelligence Search\",\"If I ask any question realted to artificial Intelligence use this tool\")\n",
    "AI_search.name"
   ]
  },
  {
   "cell_type": "markdown",
   "id": "500577b1",
   "metadata": {},
   "source": [
    "Making Arxiv Tool "
   ]
  },
  {
   "cell_type": "code",
   "execution_count": 68,
   "id": "3bcd486d",
   "metadata": {},
   "outputs": [
    {
     "data": {
      "text/plain": [
       "'arxiv'"
      ]
     },
     "execution_count": 68,
     "metadata": {},
     "output_type": "execute_result"
    }
   ],
   "source": [
    "arxiv_wrapper=ArxivAPIWrapper(top_k_results=1,doc_content_chars_max=150)\n",
    "arxiv=ArxivQueryRun(api_wrapper=arxiv_wrapper)\n",
    "arxiv.name"
   ]
  },
  {
   "cell_type": "markdown",
   "id": "977f58f5",
   "metadata": {},
   "source": [
    "Creating web search tool"
   ]
  },
  {
   "cell_type": "code",
   "execution_count": 76,
   "id": "8fa900a0",
   "metadata": {},
   "outputs": [],
   "source": [
    "search_tool = DuckDuckGoSearchRun()\n",
    "\n",
    "\n",
    "web_search = Tool(\n",
    "    name=\"web_search\",\n",
    "    description=\"Use this tool to search the internet and return text summaries from DuckDuckGo.\",\n",
    "    func=lambda input: search_tool.run(input)\n",
    "\n",
    ")"
   ]
  },
  {
   "cell_type": "markdown",
   "id": "238a811b",
   "metadata": {},
   "source": [
    "Combining tools"
   ]
  },
  {
   "cell_type": "code",
   "execution_count": 69,
   "id": "a612be0d",
   "metadata": {},
   "outputs": [],
   "source": [
    "tools=[wikipedia,AI_search,arxiv]"
   ]
  },
  {
   "cell_type": "markdown",
   "id": "bea8456c",
   "metadata": {},
   "source": [
    "Using llama2 llm with the help of ollama"
   ]
  },
  {
   "cell_type": "code",
   "execution_count": 70,
   "id": "64d8a21b",
   "metadata": {},
   "outputs": [],
   "source": [
    "llm = ChatOllama(model=\"llama2\") "
   ]
  },
  {
   "cell_type": "markdown",
   "id": "0f0a4c88",
   "metadata": {},
   "source": [
    "Creating prompt"
   ]
  },
  {
   "cell_type": "code",
   "execution_count": 71,
   "id": "b263f739",
   "metadata": {},
   "outputs": [],
   "source": [
    "prompt=ChatPromptTemplate.from_template(\"\"\" Answer to the my querys using context and also give  the source of that in your answer\n",
    "<context>\n",
    "{context}\n",
    "</context>\n",
    "Question:{input}\n",
    "{agent_scratchpad}                                 \n",
    "                                           \"\"\"\n",
    "\n",
    " )"
   ]
  },
  {
   "cell_type": "markdown",
   "id": "ee3b19ae",
   "metadata": {},
   "source": [
    "Agents bucket to give name and description to llm "
   ]
  },
  {
   "cell_type": "code",
   "execution_count": 72,
   "id": "6e53f137",
   "metadata": {},
   "outputs": [],
   "source": [
    "agent=create_openai_tools_agent(llm,tools,prompt)"
   ]
  },
  {
   "cell_type": "markdown",
   "id": "868f27a7",
   "metadata": {},
   "source": [
    "Execute the llm output and give back the result in prompt  "
   ]
  },
  {
   "cell_type": "code",
   "execution_count": 78,
   "id": "48edd66e",
   "metadata": {},
   "outputs": [
    {
     "data": {
      "text/plain": [
       "['AgentExecutor(verbose=False, agent=RunnableMultiActionAgent(runnable=RunnableAssign(mapper={',\n",
       " \"  agent_scratchpad: RunnableLambda(lambda x: format_to_openai_tool_messages(x['intermediate_steps']))\",\n",
       " '})',\n",
       " \"| ChatPromptTemplate(input_variables=['agent_scratchpad', 'context', 'input'], input_types={}, partial_variables={}, messages=[HumanMessagePromptTemplate(prompt=PromptTemplate(input_variables=['agent_scratchpad', 'context', 'input'], input_types={}, partial_variables={}, template=' Answer to the my querys using context and also give  the source of that in your answer\\\\n<context>\\\\n{context}\\\\n</context>\\\\nQuestion:{input}\\\\n{agent_scratchpad}                                 \\\\n                                           '), additional_kwargs={})])\",\n",
       " \"| RunnableBinding(bound=ChatOllama(), kwargs={'tools': [{'type': 'function', 'function': {'name': 'wikipedia', 'description': 'A wrapper around Wikipedia. Useful for when you need to answer general questions about people, places, companies, facts, historical events, or other subjects. Input should be a search query.', 'parameters': {'properties': {'query': {'description': 'query to look up on wikipedia', 'type': 'string'}}, 'required': ['query'], 'type': 'object'}}}, {'type': 'function', 'function': {'name': 'Artificial Intelligence Search', 'description': 'If I ask any question realted to artificial Intelligence use this tool', 'parameters': {'properties': {'query': {'description': 'query to look up in retriever', 'type': 'string'}}, 'required': ['query'], 'type': 'object'}}}, {'type': 'function', 'function': {'name': 'arxiv', 'description': 'A wrapper around Arxiv.org Useful for when you need to answer questions about Physics, Mathematics, Computer Science, Quantitative Biology, Quantitative Finance, Statistics, Electrical Engineering, and Economics from scientific articles on arxiv.org. Input should be a search query.', 'parameters': {'properties': {'query': {'description': 'search query to look up', 'type': 'string'}}, 'required': ['query'], 'type': 'object'}}}]}, config={}, config_factories=[])\"]"
      ]
     },
     "execution_count": 78,
     "metadata": {},
     "output_type": "execute_result"
    }
   ],
   "source": [
    "agent_excutor=AgentExecutor(agent=agent,tools=tools,verboe=True)\n",
    "repr(agent_excutor).splitlines()[:5]\n"
   ]
  },
  {
   "cell_type": "markdown",
   "id": "f50dd535",
   "metadata": {},
   "source": [
    "Finally invoking the agent Executor"
   ]
  },
  {
   "cell_type": "code",
   "execution_count": 79,
   "id": "4aa0bf0d",
   "metadata": {},
   "outputs": [
    {
     "data": {
      "text/plain": [
       "['AgentExecutor(verbose=False, agent=RunnableMultiActionAgent(runnable=RunnableAssign(mapper={',\n",
       " \"  agent_scratchpad: RunnableLambda(lambda x: format_to_openai_tool_messages(x['intermediate_steps']))\",\n",
       " '})',\n",
       " \"| ChatPromptTemplate(input_variables=['agent_scratchpad', 'context', 'input'], input_types={}, partial_variables={}, messages=[HumanMessagePromptTemplate(prompt=PromptTemplate(input_variables=['agent_scratchpad', 'context', 'input'], input_types={}, partial_variables={}, template=' Answer to the my querys using context and also give  the source of that in your answer\\\\n<context>\\\\n{context}\\\\n</context>\\\\nQuestion:{input}\\\\n{agent_scratchpad}                                 \\\\n                                           '), additional_kwargs={})])\",\n",
       " \"| RunnableBinding(bound=ChatOllama(), kwargs={'tools': [{'type': 'function', 'function': {'name': 'wikipedia', 'description': 'A wrapper around Wikipedia. Useful for when you need to answer general questions about people, places, companies, facts, historical events, or other subjects. Input should be a search query.', 'parameters': {'properties': {'query': {'description': 'query to look up on wikipedia', 'type': 'string'}}, 'required': ['query'], 'type': 'object'}}}, {'type': 'function', 'function': {'name': 'Artificial Intelligence Search', 'description': 'If I ask any question realted to artificial Intelligence use this tool', 'parameters': {'properties': {'query': {'description': 'query to look up in retriever', 'type': 'string'}}, 'required': ['query'], 'type': 'object'}}}, {'type': 'function', 'function': {'name': 'arxiv', 'description': 'A wrapper around Arxiv.org Useful for when you need to answer questions about Physics, Mathematics, Computer Science, Quantitative Biology, Quantitative Finance, Statistics, Electrical Engineering, and Economics from scientific articles on arxiv.org. Input should be a search query.', 'parameters': {'properties': {'query': {'description': 'search query to look up', 'type': 'string'}}, 'required': ['query'], 'type': 'object'}}}]}, config={}, config_factories=[])\"]"
      ]
     },
     "execution_count": 79,
     "metadata": {},
     "output_type": "execute_result"
    }
   ],
   "source": [
    "agent_excutor.invoke({\"input\":\"What is artificial intelligence\",\"context\": \"\" })\n",
    "repr(agent_excutor).splitlines()[:5]"
   ]
  }
 ],
 "metadata": {
  "kernelspec": {
   "display_name": "base",
   "language": "python",
   "name": "python3"
  },
  "language_info": {
   "codemirror_mode": {
    "name": "ipython",
    "version": 3
   },
   "file_extension": ".py",
   "mimetype": "text/x-python",
   "name": "python",
   "nbconvert_exporter": "python",
   "pygments_lexer": "ipython3",
   "version": "3.12.7"
  }
 },
 "nbformat": 4,
 "nbformat_minor": 5
}
